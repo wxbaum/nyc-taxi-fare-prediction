{
 "cells": [
  {
   "cell_type": "markdown",
   "metadata": {
    "colab_type": "text",
    "id": "qktMo8uCA68F"
   },
   "source": [
    "# NYC Taxi Fare Prediction\n",
    "\n",
    "## --Work in progress--\n",
    "\n",
    "##### Kaggle Blurb\n",
    "In this playground competition, hosted in partnership with Google Cloud and Coursera, you are tasked with predicting the fare amount (inclusive of tolls) for a taxi ride in New York City given the pickup and dropoff locations. While you can get a basic estimate based on just the distance between the two points, this will result in an RMSE of 5-8 dollars, depending on the model used.\n",
    "\n",
    "##### My Approach\n",
    "While there are plenty of submissions and Medium articles on this particular problem, I'm going to take a bit of a different approach.\n",
    "\n",
    "Taxi fares in most towns and small cities are a direct function of time spent driving. NYC is a different beast. Depending on time of day, destination, speed of traffic etc, fares are surcharged at additional per minute rates and flat rates. I'm going to see if building a model that significantly improves on Google's baseline error can be achieved by stripping fares of their surcharges, making predictions using a highly conservative set of features, and using a rules-based function to add surcharges to predictions. I'll then compare that approach to one which ingests surcharge rules as features rather than in post-processing. "
   ]
  },
  {
   "cell_type": "code",
   "execution_count": 1,
   "metadata": {
    "colab": {},
    "colab_type": "code",
    "id": "3J8TM5nrA68F"
   },
   "outputs": [],
   "source": [
    "# Module imports\n",
    "import pandas as pd\n",
    "import numpy as np\n",
    "from math import radians, cos, sin, asin, sqrt\n",
    "import datetime as dt\n",
    "import seaborn as sns\n",
    "import matplotlib.pyplot as plt\n",
    "%matplotlib inline"
   ]
  },
  {
   "cell_type": "markdown",
   "metadata": {},
   "source": [
    "The raw dataset is on the order of 60m rows, far too many to process locally on this Macbook. Reading some other approaches to the problem, 2m rows has been getting good results so I'll start with that. "
   ]
  },
  {
   "cell_type": "code",
   "execution_count": 2,
   "metadata": {
    "colab": {
     "base_uri": "https://localhost:8080/",
     "height": 629,
     "resources": {
      "http://localhost:8080/nbextensions/google.colab/files.js": {
       "data": "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",
       "headers": [
        [
         "content-type",
         "application/javascript"
        ]
       ],
       "ok": true,
       "status": 200,
       "status_text": ""
      }
     }
    },
    "colab_type": "code",
    "id": "VYYqXsOwFTD-",
    "outputId": "81039884-6bb1-4cd0-897a-6a45b3cbd833"
   },
   "outputs": [],
   "source": [
    "filepath = r''\n",
    "fares_train = pd.read_csv(filepath + 'train.csv', nrows=250000)"
   ]
  },
  {
   "cell_type": "code",
   "execution_count": 3,
   "metadata": {
    "colab": {},
    "colab_type": "code",
    "id": "ZPi6cQ5sA68L"
   },
   "outputs": [
    {
     "data": {
      "text/html": [
       "<div>\n",
       "<style scoped>\n",
       "    .dataframe tbody tr th:only-of-type {\n",
       "        vertical-align: middle;\n",
       "    }\n",
       "\n",
       "    .dataframe tbody tr th {\n",
       "        vertical-align: top;\n",
       "    }\n",
       "\n",
       "    .dataframe thead th {\n",
       "        text-align: right;\n",
       "    }\n",
       "</style>\n",
       "<table border=\"1\" class=\"dataframe\">\n",
       "  <thead>\n",
       "    <tr style=\"text-align: right;\">\n",
       "      <th></th>\n",
       "      <th>key</th>\n",
       "      <th>fare_amount</th>\n",
       "      <th>pickup_datetime</th>\n",
       "      <th>pickup_longitude</th>\n",
       "      <th>pickup_latitude</th>\n",
       "      <th>dropoff_longitude</th>\n",
       "      <th>dropoff_latitude</th>\n",
       "      <th>passenger_count</th>\n",
       "    </tr>\n",
       "  </thead>\n",
       "  <tbody>\n",
       "    <tr>\n",
       "      <th>0</th>\n",
       "      <td>2009-06-15 17:26:21.0000001</td>\n",
       "      <td>4.5</td>\n",
       "      <td>2009-06-15 17:26:21 UTC</td>\n",
       "      <td>-73.844311</td>\n",
       "      <td>40.721319</td>\n",
       "      <td>-73.841610</td>\n",
       "      <td>40.712278</td>\n",
       "      <td>1</td>\n",
       "    </tr>\n",
       "    <tr>\n",
       "      <th>1</th>\n",
       "      <td>2010-01-05 16:52:16.0000002</td>\n",
       "      <td>16.9</td>\n",
       "      <td>2010-01-05 16:52:16 UTC</td>\n",
       "      <td>-74.016048</td>\n",
       "      <td>40.711303</td>\n",
       "      <td>-73.979268</td>\n",
       "      <td>40.782004</td>\n",
       "      <td>1</td>\n",
       "    </tr>\n",
       "    <tr>\n",
       "      <th>2</th>\n",
       "      <td>2011-08-18 00:35:00.00000049</td>\n",
       "      <td>5.7</td>\n",
       "      <td>2011-08-18 00:35:00 UTC</td>\n",
       "      <td>-73.982738</td>\n",
       "      <td>40.761270</td>\n",
       "      <td>-73.991242</td>\n",
       "      <td>40.750562</td>\n",
       "      <td>2</td>\n",
       "    </tr>\n",
       "    <tr>\n",
       "      <th>3</th>\n",
       "      <td>2012-04-21 04:30:42.0000001</td>\n",
       "      <td>7.7</td>\n",
       "      <td>2012-04-21 04:30:42 UTC</td>\n",
       "      <td>-73.987130</td>\n",
       "      <td>40.733143</td>\n",
       "      <td>-73.991567</td>\n",
       "      <td>40.758092</td>\n",
       "      <td>1</td>\n",
       "    </tr>\n",
       "    <tr>\n",
       "      <th>4</th>\n",
       "      <td>2010-03-09 07:51:00.000000135</td>\n",
       "      <td>5.3</td>\n",
       "      <td>2010-03-09 07:51:00 UTC</td>\n",
       "      <td>-73.968095</td>\n",
       "      <td>40.768008</td>\n",
       "      <td>-73.956655</td>\n",
       "      <td>40.783762</td>\n",
       "      <td>1</td>\n",
       "    </tr>\n",
       "  </tbody>\n",
       "</table>\n",
       "</div>"
      ],
      "text/plain": [
       "                             key  fare_amount          pickup_datetime  \\\n",
       "0    2009-06-15 17:26:21.0000001          4.5  2009-06-15 17:26:21 UTC   \n",
       "1    2010-01-05 16:52:16.0000002         16.9  2010-01-05 16:52:16 UTC   \n",
       "2   2011-08-18 00:35:00.00000049          5.7  2011-08-18 00:35:00 UTC   \n",
       "3    2012-04-21 04:30:42.0000001          7.7  2012-04-21 04:30:42 UTC   \n",
       "4  2010-03-09 07:51:00.000000135          5.3  2010-03-09 07:51:00 UTC   \n",
       "\n",
       "   pickup_longitude  pickup_latitude  dropoff_longitude  dropoff_latitude  \\\n",
       "0        -73.844311        40.721319         -73.841610         40.712278   \n",
       "1        -74.016048        40.711303         -73.979268         40.782004   \n",
       "2        -73.982738        40.761270         -73.991242         40.750562   \n",
       "3        -73.987130        40.733143         -73.991567         40.758092   \n",
       "4        -73.968095        40.768008         -73.956655         40.783762   \n",
       "\n",
       "   passenger_count  \n",
       "0                1  \n",
       "1                1  \n",
       "2                2  \n",
       "3                1  \n",
       "4                1  "
      ]
     },
     "execution_count": 3,
     "metadata": {},
     "output_type": "execute_result"
    }
   ],
   "source": [
    "fares_train.head()"
   ]
  },
  {
   "cell_type": "code",
   "execution_count": 4,
   "metadata": {
    "colab": {},
    "colab_type": "code",
    "id": "4Aagyso5A68O"
   },
   "outputs": [],
   "source": [
    "# Need to cast the datetime column as a datetime\n",
    "fares_train['pickup_datetime'] = pd.to_datetime(fares_train.pickup_datetime)"
   ]
  },
  {
   "cell_type": "markdown",
   "metadata": {
    "colab_type": "text",
    "id": "-SRH1JbHA68Q"
   },
   "source": [
    "Normally we'd want to do some high level analysis of the data. Since we've been given a baseline reange already however, I'm going to create a rudimentary model to set a working baseline for this workflow then get into building on this. For this initial model I'm only going to wrangle the data so far as to create clean inputs. \n",
    "\n",
    "First, the data cleansing and creating the key distance travelled feature. For that I'll use the Haversine formula."
   ]
  },
  {
   "cell_type": "code",
   "execution_count": 5,
   "metadata": {
    "colab": {},
    "colab_type": "code",
    "id": "n0d2URxKA68R"
   },
   "outputs": [
    {
     "name": "stdout",
     "output_type": "stream",
     "text": [
      "key                  0\n",
      "fare_amount          0\n",
      "pickup_datetime      0\n",
      "pickup_longitude     0\n",
      "pickup_latitude      0\n",
      "dropoff_longitude    2\n",
      "dropoff_latitude     2\n",
      "passenger_count      0\n",
      "dtype: int64\n"
     ]
    }
   ],
   "source": [
    "# Checking for nulls\n",
    "print(fares_train.isnull().sum())"
   ]
  },
  {
   "cell_type": "code",
   "execution_count": 6,
   "metadata": {
    "colab": {},
    "colab_type": "code",
    "id": "4QjJaZhHA68U"
   },
   "outputs": [],
   "source": [
    "# There are null values in the dropoff columns so we'll just drop those rows\n",
    "fares_train = fares_train.dropna()"
   ]
  },
  {
   "cell_type": "code",
   "execution_count": 7,
   "metadata": {
    "colab": {},
    "colab_type": "code",
    "id": "fnceINwzA68X"
   },
   "outputs": [
    {
     "name": "stdout",
     "output_type": "stream",
     "text": [
      "key                  0\n",
      "fare_amount          0\n",
      "pickup_datetime      0\n",
      "pickup_longitude     0\n",
      "pickup_latitude      0\n",
      "dropoff_longitude    0\n",
      "dropoff_latitude     0\n",
      "passenger_count      0\n",
      "dtype: int64\n"
     ]
    }
   ],
   "source": [
    "print(fares_train.isnull().sum())"
   ]
  },
  {
   "cell_type": "markdown",
   "metadata": {
    "colab_type": "text",
    "id": "xipTgJ7lA68a"
   },
   "source": [
    "For fare amount, the values need to be sanity checked. Intuitively, the fare cannot be less than 0. Furthermore, every taxi trip in NYC has a base fare of 2.50, so anything below that will be considered bad data. Outputting the min and max fare values below shows that values exist outside of those constraints. There's also a singular huge outlier. We can set a rule that training fares should be below 1000 dollars, which will generalize well to other subsets of data since we're only using 10% of the training set provided right now. "
   ]
  },
  {
   "cell_type": "code",
   "execution_count": 8,
   "metadata": {
    "colab": {},
    "colab_type": "code",
    "id": "JPNKyr9ZA68b"
   },
   "outputs": [
    {
     "name": "stdout",
     "output_type": "stream",
     "text": [
      "-44.9 500.0\n",
      "[500.0, 495.0, 450.0, 281.05, 255.0, 245.41, 240.0, 235.0, 225.0, 217.0]\n"
     ]
    }
   ],
   "source": [
    "print(fares_train.fare_amount.min(), fares_train.fare_amount.max())\n",
    "print(fares_train.fare_amount.sort_values(ascending=False)[:10].tolist())"
   ]
  },
  {
   "cell_type": "code",
   "execution_count": 9,
   "metadata": {
    "colab": {},
    "colab_type": "code",
    "id": "eIrJ1OfDA68d"
   },
   "outputs": [],
   "source": [
    "# Constraining fares to real world values\n",
    "fares_train = fares_train.loc[(fares_train.fare_amount >= 2.5) & (fares_train.fare_amount < 1000)]"
   ]
  },
  {
   "cell_type": "markdown",
   "metadata": {
    "colab_type": "text",
    "id": "yUIMS5JbA68g"
   },
   "source": [
    "Similarly for passenger count, the data must represent real world values. According to the NYC Taxi & Limousine Commission, the largest vehicle (by seats) eligible for a medallion is the Nissan NV200 passenger van with 12 seats. The Ford Transit Connect is also on the list, but only wheelchair accesible versions which are limited to 6 seats. \n",
    "\n",
    "Allowed vehicle source: https://www1.nyc.gov/site/tlc/about/vehicles-in-use-approved-vehicle-list.page\n",
    "\n",
    "Seating data sourced from vehicle manufacturer websites. \n",
    "\n",
    "The passenger count data will, as such, be constrained to 1 >= n <= 12  "
   ]
  },
  {
   "cell_type": "code",
   "execution_count": 10,
   "metadata": {
    "colab": {},
    "colab_type": "code",
    "id": "1abREglcA68h"
   },
   "outputs": [
    {
     "name": "stdout",
     "output_type": "stream",
     "text": [
      "1 6\n"
     ]
    }
   ],
   "source": [
    "fares_train = fares_train.loc[(fares_train.passenger_count >= 1) & (fares_train.passenger_count <= 12)]\n",
    "print(fares_train.passenger_count.min(), fares_train.passenger_count.max())"
   ]
  },
  {
   "cell_type": "markdown",
   "metadata": {
    "colab_type": "text",
    "id": "jXTzmbdIA68k"
   },
   "source": [
    "The geospatial data needs to make real world sense too. Since the project is limited to NYC, any lat/longs unreasonably far from NYC need to be removed. Checking rounded values in the pickup_longitude column reveals a significant number of values that are clearly errounous."
   ]
  },
  {
   "cell_type": "code",
   "execution_count": 11,
   "metadata": {
    "colab": {},
    "colab_type": "code",
    "id": "V3JVhK9-A68l"
   },
   "outputs": [
    {
     "data": {
      "text/plain": [
       "array([ -73,  -74,    0,   40,  -72,  -75,   -1,  -70, -736,  -78,   -7,\n",
       "        -69, 2140,  -10,  -76,  -71, -121, -740], dtype=int64)"
      ]
     },
     "execution_count": 11,
     "metadata": {},
     "output_type": "execute_result"
    }
   ],
   "source": [
    "fares_train['pickup_longitude'].astype(int).unique()"
   ]
  },
  {
   "cell_type": "markdown",
   "metadata": {
    "colab_type": "text",
    "id": "CDbwonaEA68o"
   },
   "source": [
    "The rough lat/long of lower Manhattan is 41.71N, 74W. One degree of latitude is roughly 69 miles. Anything drastically different is definitely errounous, and any legitimate journey of greater than around one degree is an outlier and will bias the model. As such, it only makes sense to keep data within a couple of degrees of the city, so we can set the latitudinal bounds as 40N and 43N, and the longitudinal bounds as 73W and 75W."
   ]
  },
  {
   "cell_type": "code",
   "execution_count": 12,
   "metadata": {
    "colab": {},
    "colab_type": "code",
    "id": "mvcjifqqA68p"
   },
   "outputs": [],
   "source": [
    "fares_train = fares_train.loc[((fares_train.pickup_latitude >= 40) & (fares_train.pickup_latitude <= 43)) &\n",
    "                              ((fares_train.dropoff_latitude >= 40) & (fares_train.dropoff_latitude <= 43)) &\n",
    "                              ((fares_train.pickup_longitude <= -73) & (fares_train.pickup_longitude >= -75)) &\n",
    "                              ((fares_train.dropoff_longitude <= -73) & (fares_train.dropoff_longitude >= -75))]"
   ]
  },
  {
   "cell_type": "markdown",
   "metadata": {
    "colab_type": "text",
    "id": "E06ruijdA68r"
   },
   "source": [
    "Now I'll build the distance travelled feature implementing a function using the Haversine formula. There's also an opportunity do an a additional bit of cleaning here by ensuring distances are all > 0. "
   ]
  },
  {
   "cell_type": "code",
   "execution_count": 13,
   "metadata": {
    "colab": {},
    "colab_type": "code",
    "id": "g0ZyXrnZA68s"
   },
   "outputs": [],
   "source": [
    "fares_train['pickup_coords'] = list(zip(fares_train.pickup_latitude, fares_train.pickup_longitude))\n",
    "fares_train['dropoff_coords'] = list(zip(fares_train.dropoff_latitude, fares_train.dropoff_longitude))\n",
    "fares_train.drop(['pickup_longitude', \n",
    "                  'pickup_latitude', \n",
    "                  'dropoff_longitude', \n",
    "                  'dropoff_latitude'],\n",
    "                 axis=1,\n",
    "                 inplace=True)"
   ]
  },
  {
   "cell_type": "code",
   "execution_count": 14,
   "metadata": {
    "colab": {},
    "colab_type": "code",
    "id": "ntFcbRN-A68v"
   },
   "outputs": [],
   "source": [
    "def calculate_distance(row):\n",
    "    \n",
    "    from math import radians, cos, sin, asin, sqrt\n",
    "    \n",
    "    lat1 = row.pickup_coords[0]\n",
    "    lon1 = row.pickup_coords[1]\n",
    "    lat2 = row.dropoff_coords[0]\n",
    "    lon2 = row.dropoff_coords[1]\n",
    "\n",
    "    R = 6372.8 # using km as unit of measure\n",
    "\n",
    "    dLat = radians(lat2 - lat1)\n",
    "    dLon = radians(lon2 - lon1)\n",
    "    lat1 = radians(lat1)\n",
    "    lat2 = radians(lat2)\n",
    "\n",
    "    a = sin(dLat/2)**2 + cos(lat1)*cos(lat2)*sin(dLon/2)**2\n",
    "    c = 2*asin(sqrt(a))\n",
    "\n",
    "    return R * c\n",
    "    \n",
    "\n",
    "fares_train['dist'] = fares_train.apply(calculate_distance, axis=1)\n",
    "\n",
    "fares_train = fares_train.loc[fares_train.dist > 0]"
   ]
  },
  {
   "cell_type": "markdown",
   "metadata": {
    "colab_type": "text",
    "id": "UC2sFnqUA68y"
   },
   "source": [
    "Now to get onto making the appropriate features ML ready. For this first iteration, only distance travelled will be used as the training feature, to make sure we're in the ballpark given by the blurb from kaggle. Similarly, a simple linear regression will suffice just fine. \n",
    "\n",
    "This time round, data won't be normalized, but will be required with additional feature engineering."
   ]
  },
  {
   "cell_type": "code",
   "execution_count": 15,
   "metadata": {
    "colab": {},
    "colab_type": "code",
    "id": "E3lTOhPQA68z"
   },
   "outputs": [
    {
     "name": "stdout",
     "output_type": "stream",
     "text": [
      "RMSE: 5.344616871316649\n"
     ]
    }
   ],
   "source": [
    "def linear_model(data, training_cols, target):\n",
    "\n",
    "    X, y = data[training_cols], data[target]\n",
    "\n",
    "    from sklearn.model_selection import train_test_split\n",
    "    X_train, X_test, y_train, y_test = train_test_split(X, y, random_state=42)\n",
    "    \n",
    "    from sklearn.linear_model import LinearRegression \n",
    "    model = LinearRegression()\n",
    "    model.fit(X_train, y_train)\n",
    "    y_pred = model.predict(X_test)\n",
    "\n",
    "    from sklearn.metrics import mean_squared_error\n",
    "    mse = mean_squared_error(y_test, y_pred)\n",
    "    rmse = np.sqrt(mse)\n",
    "    print('RMSE:', rmse)\n",
    "    \n",
    "    \n",
    "linear_model(data=fares_train, training_cols=['dist'], target='fare_amount')"
   ]
  },
  {
   "cell_type": "markdown",
   "metadata": {
    "colab_type": "text",
    "id": "Ry0uTFgAA682"
   },
   "source": [
    "This is good stuff. The RMSE falls within the 5-8 range targeted even with a small sample of the overall dataset, so the model build is definitely on the right track. \n",
    "\n",
    "Only distance travelled was used to train that initial model. For NYC taxis, a fairly complex fare system exists. The full set of rules can be found here: https://www1.nyc.gov/site/tlc/passengers/taxi-fare.page"
   ]
  },
  {
   "cell_type": "markdown",
   "metadata": {
    "colab_type": "text",
    "id": "mmjlJ3XIA682"
   },
   "source": [
    "Coding everything there would be extremely time consuming and mostly for not much benefit, so parsing out the most common/impactful ones will be the most productive strategy. What are those?\n",
    "- 2.50 base charge on every fare. \n",
    "- 1.00 surcharge between the hours of 4pm and 8pm on weekdays, excluding holidays. \n",
    "- 0.50 overnight surcharge between hours of 8pm and 6am. \n",
    "- 0.30 Improvement surcharges to every fare. \n",
    "- 2.50/2.75/0.75 charge for all trips beginning south of 96th St depending on ride type. \n",
    "- Hudson River crossings and some East River crossings have tolls. \n",
    "- Trips to/from JFK have a flat rate of 52.00 with a 4.50 surcharge between 4pm and 8pm excluding holidays. \n",
    "- Trips to EWR have a 17.50 surcharge. \n",
    "\n",
    "As I mentioned in the initial blurb, creating an adjusted fare feature to isolate the fare for distance travelled minus fees will be a more accurate representation of the relationship between distance travelled and fare paid. "
   ]
  },
  {
   "cell_type": "code",
   "execution_count": 16,
   "metadata": {
    "colab": {},
    "colab_type": "code",
    "id": "1sVIjCBUA685"
   },
   "outputs": [],
   "source": [
    "# To create the adjusted fare the surcharges need to be removed from the actual charge to the passenger\n",
    "def adjust_fare_paid(row):\n",
    "    \n",
    "    af = row.fare_amount # af: adjusted fare\n",
    "    ride_datetime = row.pickup_datetime\n",
    "    \n",
    "    trip_time = ride_datetime.time()\n",
    "    trip_day = ride_datetime.isoweekday() # Mon = 1, Sun = 7\n",
    "    pu_coords = row.pickup_coords\n",
    "    do_coords = row.dropoff_coords\n",
    "    \n",
    "    eight_pm_ts = dt.datetime.strptime('20:00', '%H:%M').time()\n",
    "    six_am_ts = dt.datetime.strptime('06:00', '%H:%M').time()\n",
    "    four_pm_ts = dt.datetime.strptime('16:00', '%H:%M').time()\n",
    "    \n",
    "    # Base fare\n",
    "    af -= 2.50 # accounts for base fare\n",
    "    \n",
    "    # Evening rush hour surcharge\n",
    "    if trip_time > four_pm_ts and trip_time < eight_pm_ts and trip_day <= 5:\n",
    "        af -= 1\n",
    "    else: \n",
    "        pass\n",
    "    \n",
    "    # Overnight surcharge\n",
    "    if trip_time > eight_pm_ts or trip_time < six_am_ts:\n",
    "        af -= 0.5\n",
    "    else: \n",
    "        pass    \n",
    "    \n",
    "    # Improvement surcharge\n",
    "    af -= 0.3\n",
    "    \n",
    "    # Trips below 96th\n",
    "    # South and west of the east end of 96th St\n",
    "    # Some accuracy lost as 96th runs NW but tradeoff is no falsely assigned surcharges\n",
    "    if pu_coords[0] < 40.782799 and pu_coords[1] > -73.936949:\n",
    "        af -= 2.50\n",
    "    \n",
    "    # Bridge tolls\n",
    "    # All bridges across the east river between Queens/Bronx/Upper Manhattan have an $8.50 toll\n",
    "    # Note, bridges south of Randalls Island have no tolls, and we'll have to take an accuacy hit for the Midtown tunnel\n",
    "    # Without having to use intensive geospatial code, we can approximate trips that crossed those northern bridges\n",
    "    # The coords (40.795268, -73.928113) are near Randalls Island, in between Queens, the Bronx, and Harlem\n",
    "    # The majority of the Bronx is east and north, majority of Queens is east and south, upper Manhattan is west and north\n",
    "    # Trips that start/end east of that point and crossed the latitude used one of the bridges\n",
    "    # Trips that start/end west of the point and cross E/W AND N/S crossed the Triborough bridge\n",
    "    # Manhattan - Queens trips\n",
    "    if pu_coords[0] > 40.795268 and pu_coords[1] < -73.928113 and do_coords[0] < 40.795268 and do_coords[1] > -73.928113:\n",
    "        af -= 8.50\n",
    "    # Queens - Manhattan trips\n",
    "    elif pu_coords[0] < 40.795268 and pu_coords[1] > -73.928113 and do_coords[0] > 40.795268 and do_coords[1] < -73.928113:\n",
    "        af -= 8.50\n",
    "    # Bronx - Queens trips\n",
    "    elif pu_coords[0] > 40.795268 and pu_coords[1] < -73.928113 and do_coords[0] < 40.795268 and do_coords[1] < -73.928113:\n",
    "        af -= 8.50\n",
    "    # Queens - Bronx trips\n",
    "    elif pu_coords[0] < 40.795268 and pu_coords[1] < -73.928113 and do_coords[0] > 40.795268 and do_coords[1] < -73.928113:\n",
    "        af -= 8.50\n",
    "    else:\n",
    "        pass\n",
    "\n",
    "    \n",
    "    return af\n",
    "\n",
    "\n",
    "fares_train['adjusted_fare'] = fares_train.apply(adjust_fare_paid, axis=1)"
   ]
  },
  {
   "cell_type": "markdown",
   "metadata": {
    "colab_type": "text",
    "id": "SV0HyHPfA687"
   },
   "source": [
    "On top of surcharges and bridge tolls, airport rides are a significant contributor to the dataset. Let's visualize what dropoffs look like across the dataset. "
   ]
  },
  {
   "cell_type": "code",
   "execution_count": 17,
   "metadata": {
    "colab": {},
    "colab_type": "code",
    "id": "nbmRxqbMA688"
   },
   "outputs": [
    {
     "data": {
      "text/plain": [
       "(40.625, 40.873)"
      ]
     },
     "execution_count": 17,
     "metadata": {},
     "output_type": "execute_result"
    },
    {
     "data": {
      "image/png": "[encoded data removed]",
      "text/plain": [
       "<Figure size 1080x576 with 1 Axes>"
      ]
     },
     "metadata": {
      "needs_background": "light"
     },
     "output_type": "display_data"
    }
   ],
   "source": [
    "do_lats = [i[0] for i in fares_train.dropoff_coords.tolist()]\n",
    "do_lons = [i[1] for i in fares_train.dropoff_coords.tolist()]\n",
    "\n",
    "fig = plt.figure(figsize=(15,8))\n",
    "plt.scatter(x=do_lons, y=do_lats, s=0.008)\n",
    "plt.xlim((-74.211938, -73.75))\n",
    "plt.ylim((40.625, 40.873))"
   ]
  },
  {
   "cell_type": "markdown",
   "metadata": {},
   "source": [
    "We can see from the visualization that all three airport are clearly defined, meaning a lot of trips for each. For those unfamiliar with the city's geography, the relevant clustered points are JFK on the bottom right, LGA center right, EWR on the far left. LGA has no special fare rules so doesn't need to be accounted for. JFK and EWR do, though. \n",
    "\n",
    "JFK has a flat rate fare, so it makes sense to assign a boolean categorical feature to runs that start or end there. EWR has a surcharge on top of a standard metered fare so an adjustment to our adjusted fare feature is more appropriate. "
   ]
  },
  {
   "cell_type": "code",
   "execution_count": 18,
   "metadata": {
    "colab": {},
    "colab_type": "code",
    "id": "a9ptdHSbA68_"
   },
   "outputs": [],
   "source": [
    "# JFK trips\n",
    "def is_jfk_trip(row):\n",
    "    \n",
    "    # NW 40.661947, -73.808848\n",
    "    # NE 40.653712, -73.771211\n",
    "    # SW 40.641392, -73.807694\n",
    "    # SE 40.639457, -73.761142\n",
    "    # Center point 40.645925, -73.785512, 3kft lat 40.655189, 3kft lon -73.762359\n",
    "    ctr_lat = 40.645925\n",
    "    ctr_lon = -73.785512\n",
    "    \n",
    "    ride_datetime = row.pickup_datetime\n",
    "    \n",
    "    trip_time = ride_datetime.time()\n",
    "    trip_day = ride_datetime.isoweekday() # Mon = 1, Sun = 7\n",
    "    pu_coords = row.pickup_coords\n",
    "    do_coords = row.dropoff_coords\n",
    "    \n",
    "    eight_pm_ts = dt.datetime.strptime('20:00', '%H:%M').time()\n",
    "    four_pm_ts = dt.datetime.strptime('16:00', '%H:%M').time()\n",
    "    \n",
    "    # Using np.abs we can check if pickup/dropoff falls within ~3000ft of the center point of the airport\n",
    "    # This encompasses all airline terminals\n",
    "    is_jfk_bool = False\n",
    "    if np.abs(pu_coords[0] - ctr_lat) < 0.015 and np.abs(pu_coords[1] - ctr_lon) < 0.025:\n",
    "        is_jfk_bool = True\n",
    "    elif np.abs(do_coords[0] - ctr_lat) < 0.015 and np.abs(do_coords[1] - ctr_lon) < 0.025:\n",
    "        is_jfk_bool = True\n",
    "    else:\n",
    "        pass\n",
    "    \n",
    "    if is_jfk_bool == True:\n",
    "        # JFK has an extra surcharge of 4.50 for rush hour trips. 1.00 was already accounted for in the earlier fare adjustment\n",
    "        if trip_time >= four_pm_ts and trip_time < eight_pm_ts and trip_day <= 5:\n",
    "            row.adjusted_fare -= 3.50\n",
    "        return 1\n",
    "    else:\n",
    "        return 0\n",
    "    \n",
    "fares_train['is_jfk_trip'] = fares_train.apply(is_jfk_trip, axis=1)"
   ]
  },
  {
   "cell_type": "code",
   "execution_count": 19,
   "metadata": {
    "colab": {},
    "colab_type": "code",
    "id": "c6XU0lEsA69A"
   },
   "outputs": [],
   "source": [
    "# EWR trips\n",
    "# Trips TO EWR have a standard metered fare plus a 17.50 surcharge\n",
    "def is_ewr_trip(row):\n",
    "    \n",
    "    ctr_lat = 40.691946\n",
    "    ctr_lon = -74.180670\n",
    "    do_coords = row.dropoff_coords\n",
    "    output_adjusted_fare = row.adjusted_fare\n",
    "    \n",
    "    # Only need to account for dropoffs\n",
    "    if np.abs(do_coords[0] - ctr_lat) < 0.015 and np.abs(do_coords[1] - ctr_lon) < 0.025:\n",
    "        row.adjusted_fare -= 17.50\n",
    "        return 1 \n",
    "    else:\n",
    "        return 0\n",
    "    \n",
    "fares_train['is_ewr_trip'] = fares_train.apply(is_ewr_trip, axis=1)"
   ]
  },
  {
   "cell_type": "markdown",
   "metadata": {
    "colab_type": "text",
    "id": "DJngfgRhA69C"
   },
   "source": [
    "Once again, we need to sanity check the data. After the surcharge/toll/airport processing, let's check how it's affected the data."
   ]
  },
  {
   "cell_type": "code",
   "execution_count": 20,
   "metadata": {
    "colab": {},
    "colab_type": "code",
    "id": "bCcuQ3dIA69D"
   },
   "outputs": [
    {
     "name": "stdout",
     "output_type": "stream",
     "text": [
      "% fares below 0: 3.6083905649663657\n",
      "JFK trips: 5136\n",
      "Mean fare adjustment: 3.6634709517654205\n"
     ]
    }
   ],
   "source": [
    "print('% fares below 0:', (len(fares_train.loc[fares_train.adjusted_fare < 0]) / (len(fares_train)))*100)\n",
    "print('JFK trips:', len(fares_train.loc[fares_train.is_jfk_trip == 1]))\n",
    "print('Mean fare adjustment:', np.mean(fares_train.fare_amount - fares_train.adjusted_fare))"
   ]
  },
  {
   "cell_type": "markdown",
   "metadata": {
    "colab_type": "text",
    "id": "jnWe_yw6A69F"
   },
   "source": [
    "A small percentage of fares have been adjusted to be below 0 dollars, however the mean fare adjustment is close to surcharges the majority of \"not-special\" rides would have (i.e. no tolls or airports). The values below zero are almost certainly victims of the geospatial assumptions, so we need to lose them. It's small amount of data loss for gaining a far more accurate representation of the fare to distance relationship. "
   ]
  },
  {
   "cell_type": "code",
   "execution_count": 21,
   "metadata": {
    "colab": {},
    "colab_type": "code",
    "id": "gJHy-95zA69H"
   },
   "outputs": [],
   "source": [
    "fares_train = fares_train.loc[fares_train.adjusted_fare > 0]"
   ]
  },
  {
   "cell_type": "markdown",
   "metadata": {},
   "source": [
    "### In-Depth Model Analysis\n",
    "\n",
    "Now we've got a real handle on the data, and coded some functions to account for special cases of taxi fares. Now we need to evaluate how effective adding various combinations of these features affects model performance. \n",
    "\n",
    "Since the baseline model used was linear regression, I'll continue using that to allow the comparison. With the addition of the new (mostly boolean) features, the problem also lends itself to a tree model. I'll use a random forest model as a comparison to the linear regression to see how far below baseline error we can get. "
   ]
  },
  {
   "cell_type": "markdown",
   "metadata": {
    "colab_type": "text",
    "id": "5jj9FyL8A69I"
   },
   "source": [
    "Now to run the linear regression function we created earlier using adjusted fare as the target instead of the original fare listed."
   ]
  },
  {
   "cell_type": "code",
   "execution_count": 22,
   "metadata": {
    "colab": {},
    "colab_type": "code",
    "id": "ks6kV147A69J"
   },
   "outputs": [
    {
     "name": "stdout",
     "output_type": "stream",
     "text": [
      "RMSE: 5.759735849584241\n"
     ]
    }
   ],
   "source": [
    "linear_model(fares_train, ['dist'], 'adjusted_fare')"
   ]
  },
  {
   "cell_type": "markdown",
   "metadata": {
    "colab_type": "text",
    "id": "oRUzTCqaA69M"
   },
   "source": [
    "Error has improved around 30 cents from just improving the accuracy of the fare. Since the model function was built to accept a list of columns as the training cols, we can also utilize the categorical features we created for JFK and EWR trips as well as passenger count. "
   ]
  },
  {
   "cell_type": "code",
   "execution_count": 23,
   "metadata": {
    "colab": {},
    "colab_type": "code",
    "id": "TyJnhqRyA69N"
   },
   "outputs": [
    {
     "name": "stdout",
     "output_type": "stream",
     "text": [
      "RMSE: 5.518580505492098\n"
     ]
    }
   ],
   "source": [
    "linear_model(fares_train, ['dist', 'is_jfk_trip', 'is_ewr_trip', 'passenger_count'], 'adjusted_fare')"
   ]
  },
  {
   "cell_type": "markdown",
   "metadata": {
    "colab_type": "text",
    "id": "lgguH1tvA69P"
   },
   "source": [
    "So roughly a 5 cent improvement by adding those extra features. \n",
    "\n",
    "- A couple of easy features to add are also evident. \n",
    "    - Taxi fares cost more sitting in traffic. We haven't accounted for rush hour congestion around popular spots. \n",
    "    - From the map created above, three standout choke points we haven't accounted for are LGA airport, Midtown, and FiDi. \n",
    "    - Note: LGA fares are not surcharged. \n",
    "- Values based on time would also be helpful. E.g. day of week and perhaps an is_rush_hour categorical feature. \n",
    "\n",
    "We'll create those now. "
   ]
  },
  {
   "cell_type": "code",
   "execution_count": 24,
   "metadata": {
    "colab": {},
    "colab_type": "code",
    "id": "9JJPVRIYA69Q"
   },
   "outputs": [],
   "source": [
    "# LGA airport \n",
    "def is_lga_trip(row):\n",
    "        \n",
    "    ctr_lat = 40.774120\n",
    "    ctr_lon = -73.868192\n",
    "    pu_coords = row.pickup_coords\n",
    "    do_coords = row.dropoff_coords\n",
    "    \n",
    "    if np.abs(do_coords[0] - ctr_lat) < 0.01 and np.abs(do_coords[1] - ctr_lon) < 0.015:\n",
    "        return 1 \n",
    "    elif np.abs(pu_coords[0] - ctr_lat) < 0.01 and np.abs(pu_coords[1] - ctr_lon) < 0.015:\n",
    "        return 1\n",
    "    else:\n",
    "        return 0\n",
    "    \n",
    "    \n",
    "fares_train['is_lga_trip'] = fares_train.apply(is_lga_trip, axis=1)"
   ]
  },
  {
   "cell_type": "code",
   "execution_count": 25,
   "metadata": {
    "colab": {},
    "colab_type": "code",
    "id": "sVva5OlLA69S"
   },
   "outputs": [],
   "source": [
    "# Midtown\n",
    "def is_midtown_trip(row):\n",
    "        \n",
    "    ctr_lat = 40.761589\n",
    "    ctr_lon = -73.981435\n",
    "    pu_coords = row.pickup_coords\n",
    "    do_coords = row.dropoff_coords\n",
    "    \n",
    "    if np.abs(do_coords[0] - ctr_lat) < 0.02 and np.abs(do_coords[1] - ctr_lon) < 0.02:\n",
    "        return 1 \n",
    "    elif np.abs(pu_coords[0] - ctr_lat) < 0.02 and np.abs(pu_coords[1] - ctr_lon) < 0.02:\n",
    "        return 1\n",
    "    else:\n",
    "        return 0\n",
    "    \n",
    "    \n",
    "fares_train['is_midtown_trip'] = fares_train.apply(is_midtown_trip, axis=1)"
   ]
  },
  {
   "cell_type": "code",
   "execution_count": 26,
   "metadata": {
    "colab": {},
    "colab_type": "code",
    "id": "lvGcIsJ9A69U"
   },
   "outputs": [],
   "source": [
    "# FiDi\n",
    "def is_fidi_trip(row):\n",
    "        \n",
    "    ctr_lat = 40.714092\n",
    "    ctr_lon = -73.981435\n",
    "    pu_coords = row.pickup_coords\n",
    "    do_coords = row.dropoff_coords\n",
    "    \n",
    "    if np.abs(do_coords[0] - ctr_lat) < 0.15 and np.abs(do_coords[1] - ctr_lon) < 0.15:\n",
    "        return 1 \n",
    "    elif np.abs(pu_coords[0] - ctr_lat) < 0.15 and np.abs(pu_coords[1] - ctr_lon) < 0.15:\n",
    "        return 1\n",
    "    else:\n",
    "        return 0\n",
    "    \n",
    "    \n",
    "fares_train['is_fidi_trip'] = fares_train.apply(is_fidi_trip, axis=1)"
   ]
  },
  {
   "cell_type": "code",
   "execution_count": 27,
   "metadata": {
    "colab": {},
    "colab_type": "code",
    "id": "Wr4f3llxA69V"
   },
   "outputs": [],
   "source": [
    "# Weekday categorical\n",
    "def is_weekday(row):\n",
    "    \n",
    "    trip_day = row.pickup_datetime.isoweekday() # Mon = 1, Sun = 7\n",
    "    \n",
    "    if trip_day <= 5:\n",
    "        return 1\n",
    "    else:\n",
    "        return 0\n",
    "\n",
    "\n",
    "fares_train['is_weekday'] = fares_train.apply(is_weekday, axis=1)"
   ]
  },
  {
   "cell_type": "code",
   "execution_count": 28,
   "metadata": {
    "colab": {},
    "colab_type": "code",
    "id": "UdsM9AxmA69X"
   },
   "outputs": [],
   "source": [
    "# Weekday rush categorical\n",
    "def is_weekday_rush(row):\n",
    "    \n",
    "    ride_datetime = row.pickup_datetime\n",
    "    trip_time = ride_datetime.time()\n",
    "    trip_day = ride_datetime.isoweekday() # Mon = 1, Sun = 7\n",
    "    \n",
    "    eight_pm_ts = dt.datetime.strptime('20:00', '%H:%M').time()\n",
    "    four_pm_ts = dt.datetime.strptime('16:00', '%H:%M').time()\n",
    "    \n",
    "    if trip_time >= four_pm_ts and trip_time < eight_pm_ts and trip_day <= 5:\n",
    "        return 1\n",
    "    else:\n",
    "        return 0\n",
    "    \n",
    "\n",
    "fares_train['is_weekday_rush'] = fares_train.apply(is_weekday_rush, axis=1)"
   ]
  },
  {
   "cell_type": "markdown",
   "metadata": {},
   "source": [
    "Training on an adjusted fare is no use if we can adjust the predicted fare to what it should with surcharges. We need a function to apply charges back to fares where needed. "
   ]
  },
  {
   "cell_type": "code",
   "execution_count": 29,
   "metadata": {
    "colab": {},
    "colab_type": "code",
    "id": "amGyJ7P1A69c"
   },
   "outputs": [],
   "source": [
    "# Using the fare adjustment function from earlier, we can switch some things back around\n",
    "def apply_approriate_charges(row):\n",
    "    \n",
    "    pf = row.predicted_adj_fare\n",
    "    \n",
    "    ride_datetime = row.pickup_datetime\n",
    "    \n",
    "    trip_time = ride_datetime.time()\n",
    "    trip_day = ride_datetime.isoweekday() # Mon = 1, Sun = 7\n",
    "    pu_coords = row.pickup_coords\n",
    "    do_coords = row.dropoff_coords\n",
    "    \n",
    "    eight_pm_ts = dt.datetime.strptime('20:00', '%H:%M').time()\n",
    "    six_am_ts = dt.datetime.strptime('06:00', '%H:%M').time()\n",
    "    four_pm_ts = dt.datetime.strptime('16:00', '%H:%M').time()\n",
    "    \n",
    "    # Base fare\n",
    "    pf += 2.50 # accounts for base fare\n",
    "    \n",
    "    # Evening rush hour surcharge\n",
    "    if trip_time > four_pm_ts and trip_time < eight_pm_ts and trip_day <= 5:\n",
    "        pf += 1\n",
    "    else: \n",
    "        pass\n",
    "    \n",
    "    # Overnight surcharge\n",
    "    if trip_time > eight_pm_ts or trip_time < six_am_ts:\n",
    "        pf += 0.5\n",
    "    else: \n",
    "        pass    \n",
    "    \n",
    "    # Improvement surcharge\n",
    "    pf += 0.3\n",
    "    \n",
    "    # Trips below 96th\n",
    "    # South and west of the east end of 96th St\n",
    "    # Some accuracy lost as 96th runs NW but tradeoff is no falsely assigned surcharges\n",
    "    if pu_coords[0] < 40.782799 and pu_coords[1] > -73.936949:\n",
    "        pf += 2.50\n",
    "    \n",
    "    # Bridge tolls\n",
    "    # All bridges across the east river between Queens/Bronx/Upper Manhattan have an $8.50 toll\n",
    "    # Note, bridges south of Randalls Island have no tolls, and we'll have to take an accuacy hit for the Midtown tunnel\n",
    "    # Without having to use intensive geospatial code, we can approximate trips that crossed those northern bridges\n",
    "    # The coords (40.795268, -73.928113) are near Randalls Island, in between Queens, the Bronx, and Harlem\n",
    "    # The majority of the Bronx is east and north, majority of Queens is east and south, upper Manhattan is west and north\n",
    "    # Trips that start/end east of that point and crossed the latitude used one of the bridges\n",
    "    # Trips that start/end west of the point and cross E/W AND N/S crossed the Triborough bridge\n",
    "    # Manhattan - Queens trips\n",
    "    if pu_coords[0] > 40.795268 and pu_coords[1] < -73.928113 and do_coords[0] < 40.795268 and do_coords[1] > -73.928113:\n",
    "        pf -= 8.50\n",
    "    # Queens - Manhattan trips\n",
    "    elif pu_coords[0] < 40.795268 and pu_coords[1] > -73.928113 and do_coords[0] > 40.795268 and do_coords[1] < -73.928113:\n",
    "        pf -= 8.50\n",
    "    # Bronx - Queens trips\n",
    "    elif pu_coords[0] > 40.795268 and pu_coords[1] < -73.928113 and do_coords[0] < 40.795268 and do_coords[1] < -73.928113:\n",
    "        pf -= 8.50\n",
    "    # Queens - Bronx trips\n",
    "    elif pu_coords[0] < 40.795268 and pu_coords[1] < -73.928113 and do_coords[0] > 40.795268 and do_coords[1] < -73.928113:\n",
    "        pf -= 8.50\n",
    "    else:\n",
    "        pass\n",
    "    \n",
    "    # EWR surcharge\n",
    "    ewr_lat = 40.691946\n",
    "    ewr_lon = -74.180670\n",
    "    do_coords = row.dropoff_coords\n",
    "    \n",
    "    # Only need to account for dropoffs\n",
    "    if np.abs(do_coords[0] - ewr_lat) < 0.015 and np.abs(do_coords[1] - ewr_lon) < 0.025:\n",
    "        pf += 17.50\n",
    "    \n",
    "    return pf"
   ]
  },
  {
   "cell_type": "markdown",
   "metadata": {
    "colab_type": "text",
    "id": "0sEkyAyyA69Z"
   },
   "source": [
    "No we have all the rules-based functions ready, we should check the RMSE improvement with these new features. There are six distinct sets of constraints to train the data on at this point:\n",
    "- Estimating full fare using distance alone.\n",
    "- Estimating full fare using additional features. \n",
    "- Estimating adjusted fare using distance alone, then adding surcharges. \n",
    "- Estimating adjusted fare using additional features, then adding surcharges. \n",
    "\n",
    "Since  surcharges needs to be baked \n",
    "\n",
    "I'll create two arrays of training columns and run the linear model for each of the above scenarios. We did already run the model for full fare w/ distance alone earlier but will run it again here for easy comparison. "
   ]
  },
  {
   "cell_type": "code",
   "execution_count": 30,
   "metadata": {},
   "outputs": [],
   "source": [
    "multivariate_training = ['dist', \n",
    "                        'is_jfk_trip', \n",
    "                        'is_ewr_trip', \n",
    "                        'is_lga_trip', \n",
    "                        'is_midtown_trip', \n",
    "                        'is_fidi_trip', \n",
    "                        'passenger_count',\n",
    "                        'is_weekday',\n",
    "                        'is_weekday_rush']\n",
    "univariate_training = ['dist']"
   ]
  },
  {
   "cell_type": "markdown",
   "metadata": {
    "colab_type": "text",
    "id": "jenEgTnpA69c"
   },
   "source": [
    "Of course the adjusted fare is not the actual fare we need to predict, we need to be able to add back the surcharges to our models predictions. The final RMSE for our baseline linear model should be modelled adjusted fare + appropriate charges scored against the actual fare paid. \n",
    "\n",
    "We'll apply the apply_appropriate_charges function inside a modified version of the linear_model function we already built. "
   ]
  },
  {
   "cell_type": "code",
   "execution_count": 31,
   "metadata": {
    "colab": {},
    "colab_type": "code",
    "id": "91RJPFUuA69f"
   },
   "outputs": [],
   "source": [
    "def linear_model_adjusted(data, training_cols, target):\n",
    "    \n",
    "    X, y = data[training_cols], data[target]\n",
    "\n",
    "    from sklearn.model_selection import train_test_split\n",
    "    X_train, X_test, y_train, y_test = train_test_split(X, y, random_state=42)\n",
    "\n",
    "    from sklearn.linear_model import LinearRegression\n",
    "    \n",
    "    model = LinearRegression()\n",
    "    model.fit(X_train, y_train)\n",
    "    y_pred = model.predict(X_test)\n",
    "    \n",
    "    # Applying surcharges to predictions and testing error\n",
    "    charges_applied_data = data.copy() \n",
    "    charges_applied_data['predicted_adj_fare'] = model.predict(charges_applied_data[training_cols])\n",
    "    charges_applied_data['fare_with_charges'] = charges_applied_data.apply(apply_approriate_charges, axis=1)\n",
    "    y_true_full_fare = charges_applied_data.fare_amount\n",
    "    y_pred_full_fare = charges_applied_data.fare_with_charges\n",
    "    \n",
    "    from sklearn.metrics import mean_squared_error\n",
    "    mse = mean_squared_error(y_true_full_fare, y_pred_full_fare)\n",
    "    rmse = np.sqrt(mse)\n",
    "    print('RMSE:', rmse)"
   ]
  },
  {
   "cell_type": "code",
   "execution_count": 33,
   "metadata": {
    "colab": {},
    "colab_type": "code",
    "id": "1aOq34RZA69Z"
   },
   "outputs": [
    {
     "name": "stdout",
     "output_type": "stream",
     "text": [
      "Full fare, distance only:\n",
      "RMSE: 5.650319520071359\n",
      "Full fare, all features:\n",
      "RMSE: 5.1875414180360515\n",
      "Adjusted fare, distance only:\n",
      "RMSE: 5.682771505770222\n",
      "Adjusted fare, all features:\n",
      "RMSE: 5.5471332305821885\n"
     ]
    }
   ],
   "source": [
    "# Full fare using only distance\n",
    "print('Full fare, distance only:')\n",
    "linear_model(fares_train, univariate_training, 'fare_amount')\n",
    "\n",
    "# Full fare using additional features\n",
    "print('Full fare, all features:')\n",
    "linear_model(fares_train, multivariate_training, 'fare_amount')\n",
    "\n",
    "# Adjusted fare using only distance\n",
    "print('Adjusted fare, distance only:')\n",
    "linear_model_adjusted(fares_train, univariate_training, 'adjusted_fare')\n",
    "\n",
    "# Adjusted fare using additional features\n",
    "print('Adjusted fare, all features:')\n",
    "linear_model_adjusted(fares_train, multivariate_training, 'adjusted_fare')"
   ]
  },
  {
   "cell_type": "markdown",
   "metadata": {
    "colab_type": "text",
    "id": "6toXxXqeA69f"
   },
   "source": [
    "Now taking the exact linear regression function from earlier, we can add in the real fare adjustment."
   ]
  },
  {
   "cell_type": "markdown",
   "metadata": {
    "colab_type": "text",
    "id": "VqiFmRGNA69n"
   },
   "source": [
    "Using surcharge agnostic fare predictions and adding surcharges later has knocked another 10 cents off the error score. Since this is still a Linear Regression as we've been using all along, we can test this workflow with a more complex model. "
   ]
  },
  {
   "cell_type": "markdown",
   "metadata": {},
   "source": [
    "A score under 5 will be good, as it'll be beating the the range initially set for a basic distance to fare model. Trying a few models (including GradientBoostingRegressor) reveals that the best full fare RMSE is the RandomForestRegressor."
   ]
  },
  {
   "cell_type": "code",
   "execution_count": null,
   "metadata": {
    "colab": {},
    "colab_type": "code",
    "id": "FiLBKI8cA69n"
   },
   "outputs": [],
   "source": [
    "def rf_reg_model(data, training_cols, target):\n",
    "    \n",
    "    X, y = data[training_cols], data[target]\n",
    "\n",
    "    from sklearn.model_selection import train_test_split\n",
    "    X_train, X_test, y_train, y_test = train_test_split(X, y, random_state=42)\n",
    "\n",
    "    from sklearn.ensemble import RandomForestRegressor\n",
    "    model = RandomForestRegressor()\n",
    "    model.fit(X_train, y_train)\n",
    "    y_pred = model.predict(X_test)\n",
    "    \n",
    "    from sklearn.metrics import mean_squared_error\n",
    "    mse = mean_squared_error(y_test, y_pred)\n",
    "    rmse = np.sqrt(mse)\n",
    "    print('Adjusted fare RMSE:', rmse)\n",
    "    \n",
    "    # Applying surcharges to predictions and testing error\n",
    "    charges_applied_data = data.copy() \n",
    "    charges_applied_data['adj_predicted_fare'] = model.predict(charges_applied_data[training_cols])\n",
    "    charges_applied_data['fare_with_charges'] = charges_applied_data.apply(apply_approriate_charges, axis=1)\n",
    "    new_mse = mean_squared_error(charges_applied_data.fare_amount, charges_applied_data.fare_with_charges)\n",
    "    new_rmse = np.sqrt(new_mse)\n",
    "    print('Charges Applied RMSE:', new_rmse)\n",
    "\n",
    "rf_reg_model(fares_train, training_cols, 'adjusted_fare')"
   ]
  },
  {
   "cell_type": "markdown",
   "metadata": {
    "colab_type": "text",
    "id": "8vowKpEeA69r"
   },
   "source": [
    "A couple of tests to conduct now with hyperparameter optimization. "
   ]
  }
 ],
 "metadata": {
  "accelerator": "GPU",
  "colab": {
   "name": "nyc_taxi_fares.ipynb",
   "provenance": [],
   "toc_visible": true,
   "version": "0.3.2"
  },
  "kernelspec": {
   "display_name": "Python 3",
   "language": "python",
   "name": "python3"
  },
  "language_info": {
   "codemirror_mode": {
    "name": "ipython",
    "version": 3
   },
   "file_extension": ".py",
   "mimetype": "text/x-python",
   "name": "python",
   "nbconvert_exporter": "python",
   "pygments_lexer": "ipython3",
   "version": "3.7.0"
  }
 },
 "nbformat": 4,
 "nbformat_minor": 1
}
